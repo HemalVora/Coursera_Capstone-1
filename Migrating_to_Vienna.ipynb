{
    "nbformat_minor": 1, 
    "cells": [
        {
            "source": "# Introduction", 
            "cell_type": "markdown", 
            "metadata": {
                "collapsed": true
            }
        }, 
        {
            "source": "Vienna has been named the world\u2019s most livable city by Mercer for the 10th year running, thanks to its high rankings in recreation, housing, economic environment, education. Back in August 2018, The Economist Intelligence Unit came to the same conclusion after considering factors like the city's low crime and corruption, health care, moderate climate, and infrastructure - instantly catapulting this European city into an ideal retirement city for many. \n\nThis capstone project is to assist residents of Singapore who are interested in migrating to Vienna, to make an informed decision as to which particular neighborhood in Vienna to live in.\n\nThis is done by comparing the origin neighborhood in Singapore to selected neighborhoods in Vienna, and to determine how similar or dissimilar they are. \n\nChances are that when Singaporeans settle in neighborhoods similar to where they came from, the faster and easier the migration process would be. ", 
            "cell_type": "markdown", 
            "metadata": {}
        }, 
        {
            "source": "# Data", 
            "cell_type": "markdown", 
            "metadata": {}
        }, 
        {
            "source": "The following sources of data required for this project:\n- number and type of venues in every neighborhood using the Foursquare API\n- coordinates of neighborhoods by using the Geocoder Python package", 
            "cell_type": "markdown", 
            "metadata": {}
        }
    ], 
    "metadata": {
        "kernelspec": {
            "display_name": "Python 3.5", 
            "name": "python3", 
            "language": "python"
        }, 
        "language_info": {
            "mimetype": "text/x-python", 
            "nbconvert_exporter": "python", 
            "version": "3.5.5", 
            "name": "python", 
            "file_extension": ".py", 
            "pygments_lexer": "ipython3", 
            "codemirror_mode": {
                "version": 3, 
                "name": "ipython"
            }
        }
    }, 
    "nbformat": 4
}